{
 "cells": [
  {
   "cell_type": "markdown",
   "id": "559168cb",
   "metadata": {},
   "source": [
    "### Tugas 1: Pemahaman Dasar Pemrograman Berbasis Fungsi"
   ]
  },
  {
   "cell_type": "markdown",
   "id": "00e50c12",
   "metadata": {},
   "source": [
    "1. Jelaskan menggunakan tabel mengenai kelebihan dan kekurangan \n",
    "paradigma procedural dibandingkan dengan object oriented (minimal 3) !\n"
   ]
  },
  {
   "cell_type": "code",
   "execution_count": 7,
   "id": "e2121b81",
   "metadata": {},
   "outputs": [
    {
     "data": {
      "text/html": [
       "\n",
       "<table>\n",
       "  <tr>\n",
       "    <th style=\"color: blue;\">Paradigma</th>\n",
       "    <th style=\"color: green;\">Kelebihan</th>\n",
       "    <th style=\"color: red;\">Kekurangan</th>\n",
       "  </tr>\n",
       "  <tr>\n",
       "    <td>Procedural</td>\n",
       "    <td>1. Lebih mudah dipelajari bagi pemula. <br> 2. Lebih sederhana dan lebih cepat dalam proses debugging. <br> 3. Lebih mudah digunakan untuk memecahkan masalah yang sederhana.</td>\n",
       "    <td>1. Kode yang lebih sulit dikembangkan dan dipelihara. <br> 2. Kode yang lebih sulit dibaca dan dipahami oleh orang lain. <br> 3. lebih sulit diterapkan untuk masalah yang kompleks.</td>\n",
       "  </tr>\n",
       "  <tr>\n",
       "    <td>Object Oriented</td>\n",
       "    <td>1. Lebih mudah dikembangkan dan dipelihara. <br> 2. Lebih mudah dibaca dan dipahami oleh orang lain. <br> 3. Lebih mudah diterapkan untuk masalah yang kompleks.</td>\n",
       "    <td>1. Lebih sulit dipahami dan dipelajari bagi pemula. <br> 2. Lebih lambat dalam proses debugging. <br> 3. Lebih sulit digunakan untuk memecahkan masalah yang sederhana.</td>\n",
       "  </tr>\n",
       "</table>\n"
      ],
      "text/plain": [
       "<IPython.core.display.HTML object>"
      ]
     },
     "metadata": {},
     "output_type": "display_data"
    }
   ],
   "source": [
    "from IPython.display import display, HTML\n",
    "\n",
    "html_code = \"\"\"\n",
    "<table>\n",
    "  <tr>\n",
    "    <th style=\"color: blue;\">Paradigma</th>\n",
    "    <th style=\"color: green;\">Kelebihan</th>\n",
    "    <th style=\"color: red;\">Kekurangan</th>\n",
    "  </tr>\n",
    "  <tr>\n",
    "    <td>Procedural</td>\n",
    "    <td>1. Lebih mudah dipelajari bagi pemula. <br> 2. Lebih sederhana dan lebih cepat dalam proses debugging. <br> 3. Lebih mudah digunakan untuk memecahkan masalah yang sederhana.</td>\n",
    "    <td>1. Kode yang lebih sulit dikembangkan dan dipelihara. <br> 2. Kode yang lebih sulit dibaca dan dipahami oleh orang lain. <br> 3. lebih sulit diterapkan untuk masalah yang kompleks.</td>\n",
    "  </tr>\n",
    "  <tr>\n",
    "    <td>Object Oriented</td>\n",
    "    <td>1. Lebih mudah dikembangkan dan dipelihara. <br> 2. Lebih mudah dibaca dan dipahami oleh orang lain. <br> 3. Lebih mudah diterapkan untuk masalah yang kompleks.</td>\n",
    "    <td>1. Lebih sulit dipahami dan dipelajari bagi pemula. <br> 2. Lebih lambat dalam proses debugging. <br> 3. Lebih sulit digunakan untuk memecahkan masalah yang sederhana.</td>\n",
    "  </tr>\n",
    "</table>\n",
    "\"\"\"\n",
    "\n",
    "display(HTML(html_code))"
   ]
  },
  {
   "cell_type": "markdown",
   "id": "5407085e",
   "metadata": {},
   "source": [
    "2. Jelaskan menggunakan tabel mengenai kelebihan dan kekurangan \n",
    "paradigma object oriented dibandingkan dengan functional (minimal 3) !"
   ]
  },
  {
   "cell_type": "code",
   "execution_count": 9,
   "id": "4706edc1",
   "metadata": {},
   "outputs": [
    {
     "data": {
      "text/html": [
       "\n",
       "<table>\n",
       "  <tr>\n",
       "    <th style=\"color: blue;\">Paradigma</th>\n",
       "    <th style=\"color: green;\">Kelebihan</th>\n",
       "    <th style=\"color: red;\">Kekurangan</th>\n",
       "  </tr>\n",
       "  <tr>\n",
       "    <td>Object Oriented</td>\n",
       "    <td>1. Lebih mudah diterapkan dan dipahami dalam membangun aplikasi berbasis objek. <br> 2. Lebih efisien dalam memanajemen state dan interaksi antar objek. <br> 3. Lebih baik dalam mengatasi masalah yang kompleks dengan bantuan inheritance dan encapsulation.</td>\n",
       "    <td>1. Lebih sulit untuk dipahami bagi pemula. <br> 2. Lebih sulit untuk memecahkan masalah matematis yang rumit. <br> 3. Membutuhkan lebih banyak memory dan processing power dibandingkan dengan paradigma lain.</td>\n",
       "  </tr>\n",
       "  <tr>\n",
       "    <td>Functional</td>\n",
       "    <td>1. Lebih mudah dipahami dan dipelajari bagi pemula. <br> 2. Lebih efisien dalam memecahkan masalah matematis yang rumit. <br> 3. Lebih mudah digunakan dalam memecahkan masalah yang menggunakan concurrency dan parallelism.</td>\n",
       "    <td>1. Lebih sulit diterapkan dalam membangun aplikasi yang kompleks. <br> 2. Kode yang lebih sulit dikembangkan dan dipelihara. <br> 3. Lebih sulit dalam memanajemen state dan interaksi antar objek.</td>\n",
       "  </tr>\n",
       "</table>\n",
       "\n"
      ],
      "text/plain": [
       "<IPython.core.display.HTML object>"
      ]
     },
     "metadata": {},
     "output_type": "display_data"
    }
   ],
   "source": [
    "from IPython.display import display, HTML\n",
    "\n",
    "html_code = \"\"\"\n",
    "<table>\n",
    "  <tr>\n",
    "    <th style=\"color: blue;\">Paradigma</th>\n",
    "    <th style=\"color: green;\">Kelebihan</th>\n",
    "    <th style=\"color: red;\">Kekurangan</th>\n",
    "  </tr>\n",
    "  <tr>\n",
    "    <td>Object Oriented</td>\n",
    "    <td>1. Lebih mudah diterapkan dan dipahami dalam membangun aplikasi berbasis objek. <br> 2. Lebih efisien dalam memanajemen state dan interaksi antar objek. <br> 3. Lebih baik dalam mengatasi masalah yang kompleks dengan bantuan inheritance dan encapsulation.</td>\n",
    "    <td>1. Lebih sulit untuk dipahami bagi pemula. <br> 2. Lebih sulit untuk memecahkan masalah matematis yang rumit. <br> 3. Membutuhkan lebih banyak memory dan processing power dibandingkan dengan paradigma lain.</td>\n",
    "  </tr>\n",
    "  <tr>\n",
    "    <td>Functional</td>\n",
    "    <td>1. Lebih mudah dipahami dan dipelajari bagi pemula. <br> 2. Lebih efisien dalam memecahkan masalah matematis yang rumit. <br> 3. Lebih mudah digunakan dalam memecahkan masalah yang menggunakan concurrency dan parallelism.</td>\n",
    "    <td>1. Lebih sulit diterapkan dalam membangun aplikasi yang kompleks. <br> 2. Kode yang lebih sulit dikembangkan dan dipelihara. <br> 3. Lebih sulit dalam memanajemen state dan interaksi antar objek.</td>\n",
    "  </tr>\n",
    "</table>\n",
    "\n",
    "\"\"\"\n",
    "\n",
    "display(HTML(html_code))"
   ]
  },
  {
   "cell_type": "markdown",
   "id": "70f0ad1e",
   "metadata": {},
   "source": [
    "3. Jelaskan menggunakan tabel mengenai kelebihan dan kekurangan \n",
    "paradigma procedural dibandingkan dengan functional (minimal 3) !"
   ]
  },
  {
   "cell_type": "code",
   "execution_count": 10,
   "id": "30166d68",
   "metadata": {},
   "outputs": [
    {
     "data": {
      "text/html": [
       "\n",
       "<table>\n",
       "  <tr>\n",
       "    <th style=\"color: blue;\">Paradigma</th>\n",
       "    <th style=\"color: green;\">Kelebihan</th>\n",
       "    <th style=\"color: red;\">Kekurangan</th>\n",
       "  </tr>\n",
       "  <tr>\n",
       "    <td>Procedural</td>\n",
       "    <td>1. Lebih mudah dipahami dan dipelajari bagi pemula. <br> 2. Lebih efisien dalam memecahkan masalah matematis yang sederhana. <br> 3. Kode yang lebih mudah dikembangkan dan dipelihara. <br> 4. Lebih mudah untuk memahami alur program yang sederhana</td>\n",
       "    <td>1. Lebih sulit diterapkan dalam membangun aplikasi yang kompleks. <br> 2. Kode yang lebih sulit dikembangkan dan dipelihara untuk masalah yang kompleks. <br> 3. Lebih sulit untuk memecahkan masalah yang menggunakan concurrency dan parallelism. <br> 4. Lebih sulit dalam memanajemen state dan interaksi antar objek.</td>\n",
       "  </tr>\n",
       "  <tr>\n",
       "    <td>Functional</td>\n",
       "    <td>1. Lebih mudah dipahami dan dipelajari bagi pemula. <br> 2. Lebih efisien dalam memecahkan masalah matematis yang rumit. <br> 3. Lebih mudah digunakan dalam memecahkan masalah yang menggunakan concurrency dan parallelism. <br> 4. Kode yang lebih mudah dikembangkan dan dipelihara untuk masalah yang rumit</td>\n",
       "    <td>1. Lebih sulit diterapkan dalam membangun aplikasi yang kompleks. <br> 2. Lebih sulit untuk memahami alur program yang kompleks. <br> 3. Lebih sulit dalam memanajemen state dan interaksi antar objek. <br> 4. Membutuhkan lebih banyak memory dan processing power dibandingkan dengan paradigma lain.</td>\n",
       "  </tr>\n",
       "</table>\n",
       "\n"
      ],
      "text/plain": [
       "<IPython.core.display.HTML object>"
      ]
     },
     "metadata": {},
     "output_type": "display_data"
    }
   ],
   "source": [
    "from IPython.display import display, HTML\n",
    "\n",
    "html_code = \"\"\"\n",
    "<table>\n",
    "  <tr>\n",
    "    <th style=\"color: blue;\">Paradigma</th>\n",
    "    <th style=\"color: green;\">Kelebihan</th>\n",
    "    <th style=\"color: red;\">Kekurangan</th>\n",
    "  </tr>\n",
    "  <tr>\n",
    "    <td>Procedural</td>\n",
    "    <td>1. Lebih mudah dipahami dan dipelajari bagi pemula. <br> 2. Lebih efisien dalam memecahkan masalah matematis yang sederhana. <br> 3. Kode yang lebih mudah dikembangkan dan dipelihara. <br> 4. Lebih mudah untuk memahami alur program yang sederhana</td>\n",
    "    <td>1. Lebih sulit diterapkan dalam membangun aplikasi yang kompleks. <br> 2. Kode yang lebih sulit dikembangkan dan dipelihara untuk masalah yang kompleks. <br> 3. Lebih sulit untuk memecahkan masalah yang menggunakan concurrency dan parallelism. <br> 4. Lebih sulit dalam memanajemen state dan interaksi antar objek.</td>\n",
    "  </tr>\n",
    "  <tr>\n",
    "    <td>Functional</td>\n",
    "    <td>1. Lebih mudah dipahami dan dipelajari bagi pemula. <br> 2. Lebih efisien dalam memecahkan masalah matematis yang rumit. <br> 3. Lebih mudah digunakan dalam memecahkan masalah yang menggunakan concurrency dan parallelism. <br> 4. Kode yang lebih mudah dikembangkan dan dipelihara untuk masalah yang rumit</td>\n",
    "    <td>1. Lebih sulit diterapkan dalam membangun aplikasi yang kompleks. <br> 2. Lebih sulit untuk memahami alur program yang kompleks. <br> 3. Lebih sulit dalam memanajemen state dan interaksi antar objek. <br> 4. Membutuhkan lebih banyak memory dan processing power dibandingkan dengan paradigma lain.</td>\n",
    "  </tr>\n",
    "</table>\n",
    "\n",
    "\"\"\"\n",
    "\n",
    "display(HTML(html_code))"
   ]
  },
  {
   "cell_type": "markdown",
   "id": "61857866",
   "metadata": {},
   "source": [
    "4. Apa yang dimaksud dengan pure functional programming language?"
   ]
  },
  {
   "cell_type": "markdown",
   "id": "2fdcd314",
   "metadata": {},
   "source": [
    "Pure functional programming language adalah suatu paradigma pemrograman yang hanya mengandalkan pada fungsi-fungsi matematis dan tidak mengandalkan pada perubahan state atau memanipulasi data eksternal. Dalam pure functional programming language, setiap fungsi memiliki input dan output yang tidak berubah dan tidak memiliki efek samping. Ini membuat kode lebih mudah dipahami dan dipelihara karena tidak ada bagian yang tersembunyi yang dapat mengubah hasil akhir. Ini juga membuat kode lebih mudah untuk digunakan dalam konteks paralel dan concurrency."
   ]
  },
  {
   "cell_type": "markdown",
   "id": "72d8b1a6",
   "metadata": {},
   "source": [
    "5. Dari bahasa pemrograman FP di slide sebelumnya ( slide 14 ) , manakah \n",
    "yang termasuk pure functional programming language?"
   ]
  },
  {
   "cell_type": "markdown",
   "id": "1f6c5b2f",
   "metadata": {},
   "source": [
    "Dari daftar FP language tersebut, yang termasuk pure functional programming language adalah Lisp, Haskell, Standard ML dan Scala .Sedangkan Javascript dan Python tidak termasuk."
   ]
  },
  {
   "cell_type": "markdown",
   "id": "7d419b6c",
   "metadata": {},
   "source": [
    "6. Membuat program Simple Password encryption, dengan ketentuan\n",
    "    1. Input password bertipe string dengan batasan panjang password \n",
    "100 karakter\n",
    "    2. Setiap karakter dari string tersebut diubah menjadi ASCII value\n",
    "    3. Kemudian setiap ASCII value tersebut dikembangkan menjadi 3 \n",
    "value dengan dilakukan operasi berikut:\n",
    "        1. Value pertama dibagi dengan integer 26 kemudian \n",
    "dibulatkan dan dijumlahkan dengan 80 kemudian diubah \n",
    "kembali menjadi karakter\n",
    "        2. Value kedua dihitung sisa bagi dengan 26 kemudian \n",
    "dijumlahkan dengan 80 kemudian diubah kembali menjadi \n",
    "karakter\n",
    "        3. Value ketiga adalah karakter ‘+’ jika value pertama lebih \n",
    "besar dari value kedua, atau value ketiga adalah karakter ‘-’ \n",
    "jika value pertama tidak lebih besar dari value kedua\n",
    "    4. Deretkan value pertama, kedua dan ketiga untuk setiap karakter \n",
    "dalam password tersebut sehingga didapatkan password dalam \n",
    "bentuk baru"
   ]
  },
  {
   "cell_type": "code",
   "execution_count": 13,
   "id": "51423e0e",
   "metadata": {},
   "outputs": [
    {
     "name": "stdout",
     "output_type": "stream",
     "text": [
      "Masukkan password: anakanakcerdas2020\n",
      "Password baru:  Sc-TV-Sc-TS+Sc-TV-Sc-TS+Se-Sg-TZ-Sf-Sc-T[-Qh-Qf-Qh-Qf-\n"
     ]
    }
   ],
   "source": [
    "def password_enkripsi(password):\n",
    "    password_baru = \"\"\n",
    "    for char in password:\n",
    "        ascii_value = ord(char)\n",
    "        value_1 = (ascii_value // 26) + 80\n",
    "        value_2 = (ascii_value % 26) + 80\n",
    "        value_3 = '+' if value_1 > value_2 else '-'\n",
    "        password_baru += chr(value_1) + chr(value_2) + value_3\n",
    "    return password_baru\n",
    "\n",
    "password = input(\"Masukkan password: \")\n",
    "if len(password) <= 100:\n",
    "    en_password = password_enkripsi(password)\n",
    "    print(\"Password baru: \", en_password)\n",
    "else:\n",
    "    print(\"Panjang password tidak bisa lebih dari 100 karakter\")\n",
    "        "
   ]
  },
  {
   "cell_type": "markdown",
   "id": "fc6e08d6",
   "metadata": {},
   "source": [
    "output yang dihasilkan dari program tersebut jika input password ‘anakanakcerdas2020’ adalah Sc-TV-Sc-TS+Sc-TV-Sc-TS+Se-Sg-TZ-Sf-Sc-T[-Qh-Qf-Qh-Qf-"
   ]
  },
  {
   "cell_type": "markdown",
   "id": "3947716f",
   "metadata": {},
   "source": []
  },
  {
   "cell_type": "code",
   "execution_count": null,
   "id": "0001f4f5",
   "metadata": {},
   "outputs": [],
   "source": []
  }
 ],
 "metadata": {
  "kernelspec": {
   "display_name": "Python 3 (ipykernel)",
   "language": "python",
   "name": "python3"
  },
  "language_info": {
   "codemirror_mode": {
    "name": "ipython",
    "version": 3
   },
   "file_extension": ".py",
   "mimetype": "text/x-python",
   "name": "python",
   "nbconvert_exporter": "python",
   "pygments_lexer": "ipython3",
   "version": "3.10.6"
  }
 },
 "nbformat": 4,
 "nbformat_minor": 5
}
